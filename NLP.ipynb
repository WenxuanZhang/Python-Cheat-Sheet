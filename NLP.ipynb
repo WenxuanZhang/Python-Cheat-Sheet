{
 "cells": [
  {
   "cell_type": "code",
   "execution_count": 1,
   "metadata": {
    "collapsed": true
   },
   "outputs": [],
   "source": [
    "import pandas as pd\n"
   ]
  },
  {
   "cell_type": "code",
   "execution_count": 3,
   "metadata": {},
   "outputs": [],
   "source": [
    "online_news = pd.read_csv(\"/Users/wenxuanzhang/Local Doc/Documents/Work/UM/OnlineNewsPopularity.csv\")\n"
   ]
  },
  {
   "cell_type": "code",
   "execution_count": 5,
   "metadata": {},
   "outputs": [
    {
     "data": {
      "text/plain": [
       "0        http://mashable.com/2013/01/07/amazon-instant-...\n",
       "1        http://mashable.com/2013/01/07/ap-samsung-spon...\n",
       "2        http://mashable.com/2013/01/07/apple-40-billio...\n",
       "3        http://mashable.com/2013/01/07/astronaut-notre...\n",
       "4         http://mashable.com/2013/01/07/att-u-verse-apps/\n",
       "5         http://mashable.com/2013/01/07/beewi-smart-toys/\n",
       "6        http://mashable.com/2013/01/07/bodymedia-armba...\n",
       "7         http://mashable.com/2013/01/07/canon-poweshot-n/\n",
       "8        http://mashable.com/2013/01/07/car-of-the-futu...\n",
       "9        http://mashable.com/2013/01/07/chuck-hagel-web...\n",
       "10       http://mashable.com/2013/01/07/cosmic-events-d...\n",
       "11        http://mashable.com/2013/01/07/crayon-creatures/\n",
       "12           http://mashable.com/2013/01/07/creature-cups/\n",
       "13               http://mashable.com/2013/01/07/dad-jokes/\n",
       "14       http://mashable.com/2013/01/07/downton-abbey-t...\n",
       "15       http://mashable.com/2013/01/07/earth-size-plan...\n",
       "16               http://mashable.com/2013/01/07/echo-game/\n",
       "17       http://mashable.com/2013/01/07/entrepreneur-tr...\n",
       "18       http://mashable.com/2013/01/07/facebook-sick-app/\n",
       "19       http://mashable.com/2013/01/07/felt-audio-puls...\n",
       "20            http://mashable.com/2013/01/07/ford-glympse/\n",
       "21        http://mashable.com/2013/01/07/ftc-google-leaks/\n",
       "22       http://mashable.com/2013/01/07/fujifilm-50x-su...\n",
       "23       http://mashable.com/2013/01/07/hillary-clinton...\n",
       "24                  http://mashable.com/2013/01/07/htc-q1/\n",
       "25       http://mashable.com/2013/01/07/huawei-ascend-m...\n",
       "26       http://mashable.com/2013/01/07/iheartradio-app...\n",
       "27       http://mashable.com/2013/01/07/intel-awesome-l...\n",
       "28       http://mashable.com/2013/01/07/isp02-iphone-ta...\n",
       "29          http://mashable.com/2013/01/07/jobs-contently/\n",
       "                               ...                        \n",
       "39614    http://mashable.com/2014/12/26/the-interview-i...\n",
       "39615    http://mashable.com/2014/12/26/toothpaste-fluo...\n",
       "39616    http://mashable.com/2014/12/26/top-photography...\n",
       "39617    http://mashable.com/2014/12/26/tor-attacked-li...\n",
       "39618    http://mashable.com/2014/12/26/tsa-gift-wrap-r...\n",
       "39619    http://mashable.com/2014/12/26/tsunami-10-year...\n",
       "39620    http://mashable.com/2014/12/26/turkey-teen-ins...\n",
       "39621    http://mashable.com/2014/12/26/ukraine-prisone...\n",
       "39622    http://mashable.com/2014/12/26/wacky-kickstart...\n",
       "39623          http://mashable.com/2014/12/26/what-is-tor/\n",
       "39624    http://mashable.com/2014/12/27/air-asia-flight...\n",
       "39625    http://mashable.com/2014/12/27/als-ice-bucket-...\n",
       "39626    http://mashable.com/2014/12/27/christmas-tree-...\n",
       "39627    http://mashable.com/2014/12/27/extremist-leade...\n",
       "39628    http://mashable.com/2014/12/27/facebook-year-i...\n",
       "39629    http://mashable.com/2014/12/27/frozen-doll-prank/\n",
       "39630    http://mashable.com/2014/12/27/high-school-i-c...\n",
       "39631    http://mashable.com/2014/12/27/japan-elderly-d...\n",
       "39632    http://mashable.com/2014/12/27/las-vegas-new-y...\n",
       "39633    http://mashable.com/2014/12/27/lbj-adviser-sla...\n",
       "39634    http://mashable.com/2014/12/27/music-grid-outf...\n",
       "39635     http://mashable.com/2014/12/27/nike-marc-newson/\n",
       "39636    http://mashable.com/2014/12/27/north-korea-int...\n",
       "39637    http://mashable.com/2014/12/27/nypd-rafael-ram...\n",
       "39638    http://mashable.com/2014/12/27/protests-contin...\n",
       "39639    http://mashable.com/2014/12/27/samsung-app-aut...\n",
       "39640    http://mashable.com/2014/12/27/seth-rogen-jame...\n",
       "39641    http://mashable.com/2014/12/27/son-pays-off-mo...\n",
       "39642       http://mashable.com/2014/12/27/ukraine-blasts/\n",
       "39643    http://mashable.com/2014/12/27/youtube-channel...\n",
       "Name: url, Length: 39644, dtype: object"
      ]
     },
     "execution_count": 5,
     "metadata": {},
     "output_type": "execute_result"
    }
   ],
   "source": [
    "online_news[\"url\"]"
   ]
  },
  {
   "cell_type": "code",
   "execution_count": null,
   "metadata": {
    "collapsed": true
   },
   "outputs": [],
   "source": []
  }
 ],
 "metadata": {
  "kernelspec": {
   "display_name": "Python 2",
   "language": "python",
   "name": "python2"
  },
  "language_info": {
   "codemirror_mode": {
    "name": "ipython",
    "version": 2
   },
   "file_extension": ".py",
   "mimetype": "text/x-python",
   "name": "python",
   "nbconvert_exporter": "python",
   "pygments_lexer": "ipython2",
   "version": "2.7.13"
  }
 },
 "nbformat": 4,
 "nbformat_minor": 2
}
