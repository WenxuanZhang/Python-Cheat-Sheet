{
 "cells": [
  {
   "cell_type": "markdown",
   "metadata": {
    "collapsed": true
   },
   "source": [
    "# Pandas CheatSheet\n",
    "\n",
    "You might want to give up when you have the first look at Pandas Documentaion, just thinking of getting familiar with all the functions made you intimidating. While but keep calm, my friend. Any Data Dealing System contains the following elements: \n",
    "+ Build DataFrame\n",
    "   + Readin from outer source \n",
    "   + Create \n",
    "      + Add/Minus one element\n",
    "+ Acessing DataFrame\n",
    "   + Index Base Acessing\n",
    "   + Location Based Accessing\n",
    "   + Conditional Based Accessing \n",
    "+ Merge DataFrame\n",
    "\n"
   ]
  },
  {
   "cell_type": "markdown",
   "metadata": {},
   "source": [
    "### Build DataFrame "
   ]
  },
  {
   "cell_type": "code",
   "execution_count": 2,
   "metadata": {
    "collapsed": true
   },
   "outputs": [],
   "source": [
    "import pandas as pd\n",
    "import numpy as np"
   ]
  },
  {
   "cell_type": "code",
   "execution_count": null,
   "metadata": {
    "collapsed": true
   },
   "outputs": [],
   "source": []
  }
 ],
 "metadata": {
  "kernelspec": {
   "display_name": "Python 2",
   "language": "python",
   "name": "python2"
  },
  "language_info": {
   "codemirror_mode": {
    "name": "ipython",
    "version": 2
   },
   "file_extension": ".py",
   "mimetype": "text/x-python",
   "name": "python",
   "nbconvert_exporter": "python",
   "pygments_lexer": "ipython2",
   "version": "2.7.13"
  }
 },
 "nbformat": 4,
 "nbformat_minor": 2
}
