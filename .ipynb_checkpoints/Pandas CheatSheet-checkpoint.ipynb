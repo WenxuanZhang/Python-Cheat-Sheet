{
 "cells": [
  {
   "cell_type": "markdown",
   "metadata": {
    "collapsed": true
   },
   "source": [
    "# Pandas CheatSheet\n",
    "\n",
    "You might want to give up when you have the first look at Pandas Documentaion, just thinking of getting familiar with all the functions made you intimidating. While but keep calm, my friend. Any Data Dealing System contains the following elements: \n",
    "+ Build DataFrame\n",
    "   + Readin from outer source \n",
    "   + Create \n",
    "      + Add/Minus one element\n",
    "+ Acessing DataFrame\n",
    "   + Index Base Acessing\n",
    "   + Location Based Accessing\n",
    "   + Conditional Based Accessing \n",
    "+ Merge DataFrame\n",
    "\n"
   ]
  },
  {
   "cell_type": "markdown",
   "metadata": {},
   "source": [
    "### Build DataFrame "
   ]
  },
  {
   "cell_type": "code",
   "execution_count": 2,
   "metadata": {
    "collapsed": true
   },
   "outputs": [],
   "source": [
    "import pandas as pd\n",
    "import numpy as np"
   ]
  },
  {
   "cell_type": "markdown",
   "metadata": {},
   "source": [
    "#### Readin from outer Source"
   ]
  },
  {
   "cell_type": "markdown",
   "metadata": {},
   "source": [
    "\n",
    "|Format |Data \t|Reader|\tWriter|\n",
    "|-------|------:|----:|-----:|---------:|\n",
    "|text |\tCSV\t|read_csv|\tto_csv|\n",
    "|text\t|JSON\t|read_json|\tto_json\n",
    "|text\t|HTML|\tread_html\t|to_html\n",
    "|text|\tLocal|\tread_clipboard|\tto_clipboard\n",
    "|binary\t|MS Excel|\tread_excel|\tto_excel|\n",
    "|binary|\tHDF5 |\tread_hdf\t|to_hdf\n",
    "|binary|\tFeather|read_feather|\tto_feather|\n",
    "|binary\t|Msgpack\t|read_msgpack|\tto_msgpack|\n",
    "|binary\t|Stata\t|read_stata|\tto_stata|\n",
    "|binary\t|SAS\t|read_sas\t |\n",
    "|binary\t| Pickle Format|\tread_pickle|\tto_pickle|\n",
    "|SQL\t|SQL\t|read_sql|\tto_sql|\n",
    "|SQL\t|Google Big Query\t|read_gbq\t|to_gbq"
   ]
  },
  {
   "cell_type": "code",
   "execution_count": 5,
   "metadata": {
    "collapsed": true
   },
   "outputs": [],
   "source": [
    "# create series\n",
    "s = pd.Series([1,3,5,np.nan,6,8])\n",
    "name = pd.Series(['a','b','c','d','e','f'])\n",
    "# create dataframe\n",
    "example = pd.DataFrame({\"name\":name,\"score\":s})\n",
    "# create index \n",
    "example.index= map(str,range(0,len(s)))\n"
   ]
  },
  {
   "cell_type": "code",
   "execution_count": null,
   "metadata": {
    "collapsed": true
   },
   "outputs": [],
   "source": [
    "# Add in element\n"
   ]
  },
  {
   "cell_type": "markdown",
   "metadata": {},
   "source": [
    "### Access DataFrame "
   ]
  },
  {
   "cell_type": "code",
   "execution_count": 6,
   "metadata": {},
   "outputs": [
    {
     "data": {
      "text/plain": [
       "1    b\n",
       "2    c\n",
       "3    d\n",
       "Name: name, dtype: object"
      ]
     },
     "execution_count": 6,
     "metadata": {},
     "output_type": "execute_result"
    }
   ],
   "source": [
    "# Index Based Accessing\n",
    "example.loc[\"1\":\"3\",\"name\"]"
   ]
  },
  {
   "cell_type": "code",
   "execution_count": 9,
   "metadata": {},
   "outputs": [
    {
     "data": {
      "text/html": [
       "<div>\n",
       "<style>\n",
       "    .dataframe thead tr:only-child th {\n",
       "        text-align: right;\n",
       "    }\n",
       "\n",
       "    .dataframe thead th {\n",
       "        text-align: left;\n",
       "    }\n",
       "\n",
       "    .dataframe tbody tr th {\n",
       "        vertical-align: top;\n",
       "    }\n",
       "</style>\n",
       "<table border=\"1\" class=\"dataframe\">\n",
       "  <thead>\n",
       "    <tr style=\"text-align: right;\">\n",
       "      <th></th>\n",
       "      <th>name</th>\n",
       "    </tr>\n",
       "  </thead>\n",
       "  <tbody>\n",
       "    <tr>\n",
       "      <th>0</th>\n",
       "      <td>a</td>\n",
       "    </tr>\n",
       "    <tr>\n",
       "      <th>1</th>\n",
       "      <td>b</td>\n",
       "    </tr>\n",
       "    <tr>\n",
       "      <th>2</th>\n",
       "      <td>c</td>\n",
       "    </tr>\n",
       "  </tbody>\n",
       "</table>\n",
       "</div>"
      ],
      "text/plain": [
       "  name\n",
       "0    a\n",
       "1    b\n",
       "2    c"
      ]
     },
     "execution_count": 9,
     "metadata": {},
     "output_type": "execute_result"
    }
   ],
   "source": [
    "# Location Based Accessing\n",
    "example.iloc[0:3,0:1]"
   ]
  },
  {
   "cell_type": "code",
   "execution_count": 12,
   "metadata": {},
   "outputs": [
    {
     "data": {
      "text/plain": [
       "2    c\n",
       "Name: name, dtype: object"
      ]
     },
     "execution_count": 12,
     "metadata": {},
     "output_type": "execute_result"
    }
   ],
   "source": [
    "#Mix based accessing\n",
    "example.ix[2:3,\"name\"]"
   ]
  },
  {
   "cell_type": "code",
   "execution_count": null,
   "metadata": {
    "collapsed": true
   },
   "outputs": [],
   "source": [
    "# Conditional Based Accessing \n"
   ]
  }
 ],
 "metadata": {
  "kernelspec": {
   "display_name": "Python 2",
   "language": "python",
   "name": "python2"
  },
  "language_info": {
   "codemirror_mode": {
    "name": "ipython",
    "version": 2
   },
   "file_extension": ".py",
   "mimetype": "text/x-python",
   "name": "python",
   "nbconvert_exporter": "python",
   "pygments_lexer": "ipython2",
   "version": "2.7.13"
  }
 },
 "nbformat": 4,
 "nbformat_minor": 2
}
